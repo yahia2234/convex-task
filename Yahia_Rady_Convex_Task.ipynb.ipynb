{
 "cells": [
  {
   "cell_type": "markdown",
   "id": "959e0c9b-21dd-4b83-98eb-0e7ede04e992",
   "metadata": {},
   "source": [
    "importing the basic libraries for data analysis "
   ]
  },
  {
   "cell_type": "code",
   "execution_count": 12,
   "id": "50071cec-775d-4659-a515-8504d1f317b6",
   "metadata": {},
   "outputs": [],
   "source": [
    "import pandas as pd\n",
    "import numpy as np\n",
    "import matplotlib as plt "
   ]
  },
  {
   "cell_type": "markdown",
   "id": "4cfe73fd-336a-4857-8c53-c6ec2fa41247",
   "metadata": {},
   "source": [
    "importing the excel files to  python as dataframes \n"
   ]
  },
  {
   "cell_type": "code",
   "execution_count": 17,
   "id": "5685864c-a467-4dc9-80c5-885a10f6971c",
   "metadata": {},
   "outputs": [],
   "source": [
    "internal = pd.read_excel('internal_trade_data.xlsx')\n",
    "clearer = pd.read_excel('clearer_trade_data.xlsx')\n"
   ]
  },
  {
   "cell_type": "markdown",
   "id": "b2741515-f9b3-4f74-ac1a-45a05fbf56b6",
   "metadata": {},
   "source": [
    "seeing the data to validate that it got imported and to get some knowledge about the data "
   ]
  },
  {
   "cell_type": "code",
   "execution_count": 19,
   "id": "935c8cda-d812-41ee-9155-6796366b0bfa",
   "metadata": {},
   "outputs": [
    {
     "data": {
      "text/html": [
       "<div>\n",
       "<style scoped>\n",
       "    .dataframe tbody tr th:only-of-type {\n",
       "        vertical-align: middle;\n",
       "    }\n",
       "\n",
       "    .dataframe tbody tr th {\n",
       "        vertical-align: top;\n",
       "    }\n",
       "\n",
       "    .dataframe thead th {\n",
       "        text-align: right;\n",
       "    }\n",
       "</style>\n",
       "<table border=\"1\" class=\"dataframe\">\n",
       "  <thead>\n",
       "    <tr style=\"text-align: right;\">\n",
       "      <th></th>\n",
       "      <th>trade_id</th>\n",
       "      <th>contract_type</th>\n",
       "      <th>contract_period</th>\n",
       "      <th>quantity_mwh</th>\n",
       "      <th>price_eur_per_mwh</th>\n",
       "    </tr>\n",
       "  </thead>\n",
       "  <tbody>\n",
       "    <tr>\n",
       "      <th>0</th>\n",
       "      <td>1</td>\n",
       "      <td>Outright</td>\n",
       "      <td>2025-03</td>\n",
       "      <td>100</td>\n",
       "      <td>30</td>\n",
       "    </tr>\n",
       "    <tr>\n",
       "      <th>1</th>\n",
       "      <td>2</td>\n",
       "      <td>Outright</td>\n",
       "      <td>2025-04</td>\n",
       "      <td>200</td>\n",
       "      <td>31</td>\n",
       "    </tr>\n",
       "    <tr>\n",
       "      <th>2</th>\n",
       "      <td>3</td>\n",
       "      <td>Outright</td>\n",
       "      <td>2025-05</td>\n",
       "      <td>250</td>\n",
       "      <td>32</td>\n",
       "    </tr>\n",
       "    <tr>\n",
       "      <th>3</th>\n",
       "      <td>4</td>\n",
       "      <td>Outright Quarter</td>\n",
       "      <td>Q225</td>\n",
       "      <td>300</td>\n",
       "      <td>33</td>\n",
       "    </tr>\n",
       "  </tbody>\n",
       "</table>\n",
       "</div>"
      ],
      "text/plain": [
       "   trade_id     contract_type contract_period  quantity_mwh  price_eur_per_mwh\n",
       "0         1          Outright         2025-03           100                 30\n",
       "1         2          Outright         2025-04           200                 31\n",
       "2         3          Outright         2025-05           250                 32\n",
       "3         4  Outright Quarter            Q225           300                 33"
      ]
     },
     "execution_count": 19,
     "metadata": {},
     "output_type": "execute_result"
    }
   ],
   "source": [
    "internal.head()\n"
   ]
  },
  {
   "cell_type": "code",
   "execution_count": 20,
   "id": "6ae7f655-cff1-4ef7-9487-b3eb1cf9285d",
   "metadata": {
    "editable": true,
    "slideshow": {
     "slide_type": ""
    },
    "tags": []
   },
   "outputs": [
    {
     "name": "stdout",
     "output_type": "stream",
     "text": [
      "<class 'pandas.core.frame.DataFrame'>\n",
      "RangeIndex: 4 entries, 0 to 3\n",
      "Data columns (total 5 columns):\n",
      " #   Column             Non-Null Count  Dtype \n",
      "---  ------             --------------  ----- \n",
      " 0   trade_id           4 non-null      int64 \n",
      " 1   contract_type      4 non-null      object\n",
      " 2   contract_period    4 non-null      object\n",
      " 3   quantity_mwh       4 non-null      int64 \n",
      " 4   price_eur_per_mwh  4 non-null      int64 \n",
      "dtypes: int64(3), object(2)\n",
      "memory usage: 292.0+ bytes\n"
     ]
    }
   ],
   "source": [
    "internal.info()"
   ]
  },
  {
   "cell_type": "code",
   "execution_count": 21,
   "id": "d2159613-3f0f-4fb6-93de-b3b37650fe36",
   "metadata": {},
   "outputs": [
    {
     "data": {
      "text/html": [
       "<div>\n",
       "<style scoped>\n",
       "    .dataframe tbody tr th:only-of-type {\n",
       "        vertical-align: middle;\n",
       "    }\n",
       "\n",
       "    .dataframe tbody tr th {\n",
       "        vertical-align: top;\n",
       "    }\n",
       "\n",
       "    .dataframe thead th {\n",
       "        text-align: right;\n",
       "    }\n",
       "</style>\n",
       "<table border=\"1\" class=\"dataframe\">\n",
       "  <thead>\n",
       "    <tr style=\"text-align: right;\">\n",
       "      <th></th>\n",
       "      <th>delivery_month</th>\n",
       "      <th>quantity_mwh</th>\n",
       "      <th>price_eur_per_mwh</th>\n",
       "    </tr>\n",
       "  </thead>\n",
       "  <tbody>\n",
       "    <tr>\n",
       "      <th>0</th>\n",
       "      <td>2025-03</td>\n",
       "      <td>100</td>\n",
       "      <td>30.0</td>\n",
       "    </tr>\n",
       "    <tr>\n",
       "      <th>1</th>\n",
       "      <td>2025-04</td>\n",
       "      <td>500</td>\n",
       "      <td>32.0</td>\n",
       "    </tr>\n",
       "    <tr>\n",
       "      <th>2</th>\n",
       "      <td>2025-05</td>\n",
       "      <td>550</td>\n",
       "      <td>32.5</td>\n",
       "    </tr>\n",
       "    <tr>\n",
       "      <th>3</th>\n",
       "      <td>2025-06</td>\n",
       "      <td>300</td>\n",
       "      <td>33.0</td>\n",
       "    </tr>\n",
       "  </tbody>\n",
       "</table>\n",
       "</div>"
      ],
      "text/plain": [
       "  delivery_month  quantity_mwh  price_eur_per_mwh\n",
       "0        2025-03           100               30.0\n",
       "1        2025-04           500               32.0\n",
       "2        2025-05           550               32.5\n",
       "3        2025-06           300               33.0"
      ]
     },
     "execution_count": 21,
     "metadata": {},
     "output_type": "execute_result"
    }
   ],
   "source": [
    "clearer.head()"
   ]
  },
  {
   "cell_type": "code",
   "execution_count": 22,
   "id": "efb67f5d-95af-4b16-a750-94238b7745a9",
   "metadata": {
    "scrolled": true
   },
   "outputs": [
    {
     "name": "stdout",
     "output_type": "stream",
     "text": [
      "<class 'pandas.core.frame.DataFrame'>\n",
      "RangeIndex: 4 entries, 0 to 3\n",
      "Data columns (total 3 columns):\n",
      " #   Column             Non-Null Count  Dtype  \n",
      "---  ------             --------------  -----  \n",
      " 0   delivery_month     4 non-null      object \n",
      " 1   quantity_mwh       4 non-null      int64  \n",
      " 2   price_eur_per_mwh  4 non-null      float64\n",
      "dtypes: float64(1), int64(1), object(1)\n",
      "memory usage: 228.0+ bytes\n"
     ]
    }
   ],
   "source": [
    "clearer.info()"
   ]
  },
  {
   "cell_type": "markdown",
   "id": "978972c7-f06c-4bd9-9cc1-aa6d2c3ab625",
   "metadata": {},
   "source": [
    "extracting the quarterly contract from the internal file sheet to represent it as monthely legs"
   ]
  },
  {
   "cell_type": "code",
   "execution_count": 23,
   "id": "2357e5b2-36ab-4afb-be94-4824b0efd470",
   "metadata": {},
   "outputs": [],
   "source": [
    "\n",
    "quarterly = internal[internal['contract_period'] == 'Q225'].copy()\n",
    "\n",
    "\n",
    "months_in_quarter = 3\n",
    "\n",
    "\n",
    "monthly_legs = pd.DataFrame({\n",
    "    'trade_id': ['Q225-Apr', 'Q225-May', 'Q225-Jun'],\n",
    "    'contract_type': ['Quarter'] * 3,\n",
    "    'contract_period': ['2025-04', '2025-05', '2025-06'],\n",
    "    'quantity_mwh': quarterly['quantity_mwh'].values[0] / months_in_quarter,\n",
    "    'price_eur_per_mwh': quarterly['price_eur_per_mwh'].values[0]\n",
    "})\n"
   ]
  },
  {
   "cell_type": "markdown",
   "id": "6164a140-ad32-4650-a287-74296e91c388",
   "metadata": {},
   "source": [
    "getting an overview of the monthly_legs dataframes and verfying that the sum of the monthely legs is the same as the quartely"
   ]
  },
  {
   "cell_type": "code",
   "execution_count": 24,
   "id": "6ef0adc9-5ca6-4d2e-b009-6c0c96813f6b",
   "metadata": {
    "scrolled": true
   },
   "outputs": [
    {
     "name": "stdout",
     "output_type": "stream",
     "text": [
      "Total quantity after splitting: 300.0\n"
     ]
    }
   ],
   "source": [
    "\n",
    "total_quantity = monthly_legs['quantity_mwh'].sum()\n",
    "print(f\"Total quantity after splitting: {total_quantity}\")"
   ]
  },
  {
   "cell_type": "code",
   "execution_count": 26,
   "id": "8789aa7e-6a40-4b4a-a456-f3e59f54d178",
   "metadata": {},
   "outputs": [
    {
     "name": "stdout",
     "output_type": "stream",
     "text": [
      "Average price after splitting: 33.0\n"
     ]
    }
   ],
   "source": [
    "average_price = monthly_legs['price_eur_per_mwh'].mean()\n",
    "print(f\"Average price after splitting: {average_price}\")"
   ]
  },
  {
   "cell_type": "code",
   "execution_count": 27,
   "id": "ff3667ed-0619-4be5-ba05-5ae2b70b5925",
   "metadata": {},
   "outputs": [
    {
     "name": "stdout",
     "output_type": "stream",
     "text": [
      "Original contract value: 9900\n",
      "Sum of split contract values: 9900.0\n"
     ]
    }
   ],
   "source": [
    "original_quantity = quarterly['quantity_mwh'].values[0]\n",
    "original_price = quarterly['price_eur_per_mwh'].values[0]\n",
    "original_value = original_quantity * original_price\n",
    "\n",
    "split_value = (monthly_legs['quantity_mwh'] * monthly_legs['price_eur_per_mwh']).sum()\n",
    "\n",
    "print(f\"Original contract value: {original_value}\")\n",
    "print(f\"Sum of split contract values: {split_value}\")"
   ]
  },
  {
   "cell_type": "code",
   "execution_count": 25,
   "id": "010999b1-1549-4f17-b996-44ea72054b19",
   "metadata": {},
   "outputs": [
    {
     "data": {
      "text/html": [
       "<div>\n",
       "<style scoped>\n",
       "    .dataframe tbody tr th:only-of-type {\n",
       "        vertical-align: middle;\n",
       "    }\n",
       "\n",
       "    .dataframe tbody tr th {\n",
       "        vertical-align: top;\n",
       "    }\n",
       "\n",
       "    .dataframe thead th {\n",
       "        text-align: right;\n",
       "    }\n",
       "</style>\n",
       "<table border=\"1\" class=\"dataframe\">\n",
       "  <thead>\n",
       "    <tr style=\"text-align: right;\">\n",
       "      <th></th>\n",
       "      <th>trade_id</th>\n",
       "      <th>contract_type</th>\n",
       "      <th>contract_period</th>\n",
       "      <th>quantity_mwh</th>\n",
       "      <th>price_eur_per_mwh</th>\n",
       "    </tr>\n",
       "  </thead>\n",
       "  <tbody>\n",
       "    <tr>\n",
       "      <th>0</th>\n",
       "      <td>Q225-Apr</td>\n",
       "      <td>Quarter</td>\n",
       "      <td>2025-04</td>\n",
       "      <td>100.0</td>\n",
       "      <td>33</td>\n",
       "    </tr>\n",
       "    <tr>\n",
       "      <th>1</th>\n",
       "      <td>Q225-May</td>\n",
       "      <td>Quarter</td>\n",
       "      <td>2025-05</td>\n",
       "      <td>100.0</td>\n",
       "      <td>33</td>\n",
       "    </tr>\n",
       "    <tr>\n",
       "      <th>2</th>\n",
       "      <td>Q225-Jun</td>\n",
       "      <td>Quarter</td>\n",
       "      <td>2025-06</td>\n",
       "      <td>100.0</td>\n",
       "      <td>33</td>\n",
       "    </tr>\n",
       "  </tbody>\n",
       "</table>\n",
       "</div>"
      ],
      "text/plain": [
       "   trade_id contract_type contract_period  quantity_mwh  price_eur_per_mwh\n",
       "0  Q225-Apr       Quarter         2025-04         100.0                 33\n",
       "1  Q225-May       Quarter         2025-05         100.0                 33\n",
       "2  Q225-Jun       Quarter         2025-06         100.0                 33"
      ]
     },
     "execution_count": 25,
     "metadata": {},
     "output_type": "execute_result"
    }
   ],
   "source": [
    "monthly_legs"
   ]
  },
  {
   "cell_type": "markdown",
   "id": "998249c8-30fb-42aa-9889-5b4d50086dfa",
   "metadata": {},
   "source": [
    "after verfying i have made sure that the sum of the monthly really corresponds to the quarterly which is 100.0 @ 33 and they have the same\n",
    "total of 9900.0"
   ]
  },
  {
   "cell_type": "markdown",
   "id": "082c4b26-f6bf-469f-b4d9-944742640106",
   "metadata": {},
   "source": [
    "now i will extract the monthly contracts from the internal file"
   ]
  },
  {
   "cell_type": "code",
   "execution_count": 28,
   "id": "6d03843d-029a-404f-8cb7-e55f036885a0",
   "metadata": {},
   "outputs": [
    {
     "data": {
      "text/html": [
       "<div>\n",
       "<style scoped>\n",
       "    .dataframe tbody tr th:only-of-type {\n",
       "        vertical-align: middle;\n",
       "    }\n",
       "\n",
       "    .dataframe tbody tr th {\n",
       "        vertical-align: top;\n",
       "    }\n",
       "\n",
       "    .dataframe thead th {\n",
       "        text-align: right;\n",
       "    }\n",
       "</style>\n",
       "<table border=\"1\" class=\"dataframe\">\n",
       "  <thead>\n",
       "    <tr style=\"text-align: right;\">\n",
       "      <th></th>\n",
       "      <th>trade_id</th>\n",
       "      <th>contract_type</th>\n",
       "      <th>contract_period</th>\n",
       "      <th>quantity_mwh</th>\n",
       "      <th>price_eur_per_mwh</th>\n",
       "    </tr>\n",
       "  </thead>\n",
       "  <tbody>\n",
       "    <tr>\n",
       "      <th>0</th>\n",
       "      <td>1</td>\n",
       "      <td>Outright</td>\n",
       "      <td>2025-03</td>\n",
       "      <td>100</td>\n",
       "      <td>30</td>\n",
       "    </tr>\n",
       "    <tr>\n",
       "      <th>1</th>\n",
       "      <td>2</td>\n",
       "      <td>Outright</td>\n",
       "      <td>2025-04</td>\n",
       "      <td>200</td>\n",
       "      <td>31</td>\n",
       "    </tr>\n",
       "    <tr>\n",
       "      <th>2</th>\n",
       "      <td>3</td>\n",
       "      <td>Outright</td>\n",
       "      <td>2025-05</td>\n",
       "      <td>250</td>\n",
       "      <td>32</td>\n",
       "    </tr>\n",
       "  </tbody>\n",
       "</table>\n",
       "</div>"
      ],
      "text/plain": [
       "   trade_id contract_type contract_period  quantity_mwh  price_eur_per_mwh\n",
       "0         1      Outright         2025-03           100                 30\n",
       "1         2      Outright         2025-04           200                 31\n",
       "2         3      Outright         2025-05           250                 32"
      ]
     },
     "execution_count": 28,
     "metadata": {},
     "output_type": "execute_result"
    }
   ],
   "source": [
    "outright = internal[internal['contract_type'] == 'Outright'].copy()\n",
    "outright"
   ]
  },
  {
   "cell_type": "markdown",
   "id": "3c6a8cb8-9a11-4aca-af63-42c0359baae1",
   "metadata": {},
   "source": [
    "Renaming the  contract_period to delivery_month for easier merging later. doing this to match the names of the outright and monthly legs to each other"
   ]
  },
  {
   "cell_type": "code",
   "execution_count": 29,
   "id": "2cf70950-7222-4130-ad78-e346665d2936",
   "metadata": {},
   "outputs": [
    {
     "data": {
      "text/html": [
       "<div>\n",
       "<style scoped>\n",
       "    .dataframe tbody tr th:only-of-type {\n",
       "        vertical-align: middle;\n",
       "    }\n",
       "\n",
       "    .dataframe tbody tr th {\n",
       "        vertical-align: top;\n",
       "    }\n",
       "\n",
       "    .dataframe thead th {\n",
       "        text-align: right;\n",
       "    }\n",
       "</style>\n",
       "<table border=\"1\" class=\"dataframe\">\n",
       "  <thead>\n",
       "    <tr style=\"text-align: right;\">\n",
       "      <th></th>\n",
       "      <th>trade_id</th>\n",
       "      <th>contract_type</th>\n",
       "      <th>delivery_month</th>\n",
       "      <th>quantity_mwh</th>\n",
       "      <th>price_eur_per_mwh</th>\n",
       "    </tr>\n",
       "  </thead>\n",
       "  <tbody>\n",
       "    <tr>\n",
       "      <th>0</th>\n",
       "      <td>1</td>\n",
       "      <td>Outright</td>\n",
       "      <td>2025-03</td>\n",
       "      <td>100</td>\n",
       "      <td>30</td>\n",
       "    </tr>\n",
       "    <tr>\n",
       "      <th>1</th>\n",
       "      <td>2</td>\n",
       "      <td>Outright</td>\n",
       "      <td>2025-04</td>\n",
       "      <td>200</td>\n",
       "      <td>31</td>\n",
       "    </tr>\n",
       "    <tr>\n",
       "      <th>2</th>\n",
       "      <td>3</td>\n",
       "      <td>Outright</td>\n",
       "      <td>2025-05</td>\n",
       "      <td>250</td>\n",
       "      <td>32</td>\n",
       "    </tr>\n",
       "  </tbody>\n",
       "</table>\n",
       "</div>"
      ],
      "text/plain": [
       "   trade_id contract_type delivery_month  quantity_mwh  price_eur_per_mwh\n",
       "0         1      Outright        2025-03           100                 30\n",
       "1         2      Outright        2025-04           200                 31\n",
       "2         3      Outright        2025-05           250                 32"
      ]
     },
     "execution_count": 29,
     "metadata": {},
     "output_type": "execute_result"
    }
   ],
   "source": [
    "outright = outright.rename(columns={'contract_period': 'delivery_month'})\n",
    "monthly_legs = monthly_legs.rename(columns={'contract_period': 'delivery_month'})\n",
    "outright\n"
   ]
  },
  {
   "cell_type": "code",
   "execution_count": 33,
   "id": "872c14de-7db5-43fa-ae4e-122c8da843e0",
   "metadata": {},
   "outputs": [
    {
     "data": {
      "text/html": [
       "<div>\n",
       "<style scoped>\n",
       "    .dataframe tbody tr th:only-of-type {\n",
       "        vertical-align: middle;\n",
       "    }\n",
       "\n",
       "    .dataframe tbody tr th {\n",
       "        vertical-align: top;\n",
       "    }\n",
       "\n",
       "    .dataframe thead th {\n",
       "        text-align: right;\n",
       "    }\n",
       "</style>\n",
       "<table border=\"1\" class=\"dataframe\">\n",
       "  <thead>\n",
       "    <tr style=\"text-align: right;\">\n",
       "      <th></th>\n",
       "      <th>trade_id</th>\n",
       "      <th>contract_type</th>\n",
       "      <th>delivery_month</th>\n",
       "      <th>quantity_mwh</th>\n",
       "      <th>price_eur_per_mwh</th>\n",
       "    </tr>\n",
       "  </thead>\n",
       "  <tbody>\n",
       "    <tr>\n",
       "      <th>0</th>\n",
       "      <td>Q225-Apr</td>\n",
       "      <td>Quarter</td>\n",
       "      <td>2025-04</td>\n",
       "      <td>100.0</td>\n",
       "      <td>33</td>\n",
       "    </tr>\n",
       "    <tr>\n",
       "      <th>1</th>\n",
       "      <td>Q225-May</td>\n",
       "      <td>Quarter</td>\n",
       "      <td>2025-05</td>\n",
       "      <td>100.0</td>\n",
       "      <td>33</td>\n",
       "    </tr>\n",
       "    <tr>\n",
       "      <th>2</th>\n",
       "      <td>Q225-Jun</td>\n",
       "      <td>Quarter</td>\n",
       "      <td>2025-06</td>\n",
       "      <td>100.0</td>\n",
       "      <td>33</td>\n",
       "    </tr>\n",
       "  </tbody>\n",
       "</table>\n",
       "</div>"
      ],
      "text/plain": [
       "   trade_id contract_type delivery_month  quantity_mwh  price_eur_per_mwh\n",
       "0  Q225-Apr       Quarter        2025-04         100.0                 33\n",
       "1  Q225-May       Quarter        2025-05         100.0                 33\n",
       "2  Q225-Jun       Quarter        2025-06         100.0                 33"
      ]
     },
     "execution_count": 33,
     "metadata": {},
     "output_type": "execute_result"
    }
   ],
   "source": [
    "monthly_legs"
   ]
  },
  {
   "cell_type": "markdown",
   "id": "e7f989ea-d6fa-4169-b88a-f954d317e003",
   "metadata": {},
   "source": [
    "Combine both DataFrames vertically"
   ]
  },
  {
   "cell_type": "code",
   "execution_count": 31,
   "id": "eb0a4c7f-6a53-491f-a483-c0e722b3f82b",
   "metadata": {},
   "outputs": [
    {
     "data": {
      "text/html": [
       "<div>\n",
       "<style scoped>\n",
       "    .dataframe tbody tr th:only-of-type {\n",
       "        vertical-align: middle;\n",
       "    }\n",
       "\n",
       "    .dataframe tbody tr th {\n",
       "        vertical-align: top;\n",
       "    }\n",
       "\n",
       "    .dataframe thead th {\n",
       "        text-align: right;\n",
       "    }\n",
       "</style>\n",
       "<table border=\"1\" class=\"dataframe\">\n",
       "  <thead>\n",
       "    <tr style=\"text-align: right;\">\n",
       "      <th></th>\n",
       "      <th>delivery_month</th>\n",
       "      <th>quantity_mwh</th>\n",
       "      <th>price_eur_per_mwh</th>\n",
       "    </tr>\n",
       "  </thead>\n",
       "  <tbody>\n",
       "    <tr>\n",
       "      <th>0</th>\n",
       "      <td>2025-03</td>\n",
       "      <td>100.0</td>\n",
       "      <td>30</td>\n",
       "    </tr>\n",
       "    <tr>\n",
       "      <th>1</th>\n",
       "      <td>2025-04</td>\n",
       "      <td>200.0</td>\n",
       "      <td>31</td>\n",
       "    </tr>\n",
       "    <tr>\n",
       "      <th>2</th>\n",
       "      <td>2025-05</td>\n",
       "      <td>250.0</td>\n",
       "      <td>32</td>\n",
       "    </tr>\n",
       "    <tr>\n",
       "      <th>0</th>\n",
       "      <td>2025-04</td>\n",
       "      <td>100.0</td>\n",
       "      <td>33</td>\n",
       "    </tr>\n",
       "    <tr>\n",
       "      <th>1</th>\n",
       "      <td>2025-05</td>\n",
       "      <td>100.0</td>\n",
       "      <td>33</td>\n",
       "    </tr>\n",
       "    <tr>\n",
       "      <th>2</th>\n",
       "      <td>2025-06</td>\n",
       "      <td>100.0</td>\n",
       "      <td>33</td>\n",
       "    </tr>\n",
       "  </tbody>\n",
       "</table>\n",
       "</div>"
      ],
      "text/plain": [
       "  delivery_month  quantity_mwh  price_eur_per_mwh\n",
       "0        2025-03         100.0                 30\n",
       "1        2025-04         200.0                 31\n",
       "2        2025-05         250.0                 32\n",
       "0        2025-04         100.0                 33\n",
       "1        2025-05         100.0                 33\n",
       "2        2025-06         100.0                 33"
      ]
     },
     "execution_count": 31,
     "metadata": {},
     "output_type": "execute_result"
    }
   ],
   "source": [
    "\n",
    "combined = pd.concat([\n",
    "    outright[['delivery_month', 'quantity_mwh', 'price_eur_per_mwh']],\n",
    "    monthly_legs[['delivery_month', 'quantity_mwh', 'price_eur_per_mwh']]\n",
    "])\n",
    "combined"
   ]
  },
  {
   "cell_type": "markdown",
   "id": "a05a18f9-eb9f-4c34-b1ef-7a6abc706949",
   "metadata": {},
   "source": [
    "creating a function to get the weighted avg price "
   ]
  },
  {
   "cell_type": "code",
   "execution_count": 34,
   "id": "f6166cf9-ca20-43ff-ad42-bcc47aceb16e",
   "metadata": {},
   "outputs": [],
   "source": [
    "def weighted_avg_price(df):\n",
    "    return (df['quantity_mwh'] * df['price_eur_per_mwh']).sum() / df['quantity_mwh'].sum()"
   ]
  },
  {
   "cell_type": "code",
   "execution_count": 37,
   "id": "bf349bf8-4a34-41a5-a328-9209f42c5144",
   "metadata": {},
   "outputs": [],
   "source": [
    "net_internal = (\n",
    "    combined.groupby('delivery_month')\n",
    "    .apply(\n",
    "        lambda x: pd.Series({\n",
    "            'quantity_mwh': x['quantity_mwh'].sum(),\n",
    "            'price_eur_per_mwh': (\n",
    "                (x['quantity_mwh'] * x['price_eur_per_mwh']).sum() / x['quantity_mwh'].sum()\n",
    "            )\n",
    "        }),\n",
    "        include_groups=False  # This silences the warning\n",
    "    )\n",
    "    .reset_index()\n",
    ")\n"
   ]
  },
  {
   "cell_type": "code",
   "execution_count": 38,
   "id": "528a73c4-8a0a-4adc-816a-035cd720a145",
   "metadata": {},
   "outputs": [
    {
     "data": {
      "text/html": [
       "<div>\n",
       "<style scoped>\n",
       "    .dataframe tbody tr th:only-of-type {\n",
       "        vertical-align: middle;\n",
       "    }\n",
       "\n",
       "    .dataframe tbody tr th {\n",
       "        vertical-align: top;\n",
       "    }\n",
       "\n",
       "    .dataframe thead th {\n",
       "        text-align: right;\n",
       "    }\n",
       "</style>\n",
       "<table border=\"1\" class=\"dataframe\">\n",
       "  <thead>\n",
       "    <tr style=\"text-align: right;\">\n",
       "      <th></th>\n",
       "      <th>delivery_month</th>\n",
       "      <th>quantity_mwh</th>\n",
       "      <th>price_eur_per_mwh</th>\n",
       "    </tr>\n",
       "  </thead>\n",
       "  <tbody>\n",
       "    <tr>\n",
       "      <th>0</th>\n",
       "      <td>2025-03</td>\n",
       "      <td>100.0</td>\n",
       "      <td>30.000000</td>\n",
       "    </tr>\n",
       "    <tr>\n",
       "      <th>1</th>\n",
       "      <td>2025-04</td>\n",
       "      <td>300.0</td>\n",
       "      <td>31.666667</td>\n",
       "    </tr>\n",
       "    <tr>\n",
       "      <th>2</th>\n",
       "      <td>2025-05</td>\n",
       "      <td>350.0</td>\n",
       "      <td>32.285714</td>\n",
       "    </tr>\n",
       "    <tr>\n",
       "      <th>3</th>\n",
       "      <td>2025-06</td>\n",
       "      <td>100.0</td>\n",
       "      <td>33.000000</td>\n",
       "    </tr>\n",
       "  </tbody>\n",
       "</table>\n",
       "</div>"
      ],
      "text/plain": [
       "  delivery_month  quantity_mwh  price_eur_per_mwh\n",
       "0        2025-03         100.0          30.000000\n",
       "1        2025-04         300.0          31.666667\n",
       "2        2025-05         350.0          32.285714\n",
       "3        2025-06         100.0          33.000000"
      ]
     },
     "execution_count": 38,
     "metadata": {},
     "output_type": "execute_result"
    }
   ],
   "source": [
    "net_internal"
   ]
  },
  {
   "cell_type": "markdown",
   "id": "e6a5b57b-5db5-45ee-aa25-9069844dfa16",
   "metadata": {},
   "source": [
    "Merge the net internal data with clearer data on delivery_month"
   ]
  },
  {
   "cell_type": "code",
   "execution_count": 39,
   "id": "acebeda0-5e55-454e-8073-5876bdf64be1",
   "metadata": {},
   "outputs": [],
   "source": [
    "reconciliation = pd.merge(net_internal, clearer, on='delivery_month', suffixes=('_internal', '_clearer'))"
   ]
  },
  {
   "cell_type": "markdown",
   "id": "dc72083f-00c3-47f4-bc74-151081e5babe",
   "metadata": {},
   "source": [
    "Calculate differences to spot mismatches"
   ]
  },
  {
   "cell_type": "code",
   "execution_count": 40,
   "id": "219306cb-b5dd-496f-91e3-73c07faad8fa",
   "metadata": {
    "scrolled": true
   },
   "outputs": [
    {
     "data": {
      "text/html": [
       "<div>\n",
       "<style scoped>\n",
       "    .dataframe tbody tr th:only-of-type {\n",
       "        vertical-align: middle;\n",
       "    }\n",
       "\n",
       "    .dataframe tbody tr th {\n",
       "        vertical-align: top;\n",
       "    }\n",
       "\n",
       "    .dataframe thead th {\n",
       "        text-align: right;\n",
       "    }\n",
       "</style>\n",
       "<table border=\"1\" class=\"dataframe\">\n",
       "  <thead>\n",
       "    <tr style=\"text-align: right;\">\n",
       "      <th></th>\n",
       "      <th>delivery_month</th>\n",
       "      <th>quantity_mwh_internal</th>\n",
       "      <th>price_eur_per_mwh_internal</th>\n",
       "      <th>quantity_mwh_clearer</th>\n",
       "      <th>price_eur_per_mwh_clearer</th>\n",
       "      <th>quantity_diff</th>\n",
       "      <th>price_diff</th>\n",
       "    </tr>\n",
       "  </thead>\n",
       "  <tbody>\n",
       "    <tr>\n",
       "      <th>0</th>\n",
       "      <td>2025-03</td>\n",
       "      <td>100.0</td>\n",
       "      <td>30.000000</td>\n",
       "      <td>100</td>\n",
       "      <td>30.0</td>\n",
       "      <td>0.0</td>\n",
       "      <td>0.000000</td>\n",
       "    </tr>\n",
       "    <tr>\n",
       "      <th>1</th>\n",
       "      <td>2025-04</td>\n",
       "      <td>300.0</td>\n",
       "      <td>31.666667</td>\n",
       "      <td>500</td>\n",
       "      <td>32.0</td>\n",
       "      <td>-200.0</td>\n",
       "      <td>-0.333333</td>\n",
       "    </tr>\n",
       "    <tr>\n",
       "      <th>2</th>\n",
       "      <td>2025-05</td>\n",
       "      <td>350.0</td>\n",
       "      <td>32.285714</td>\n",
       "      <td>550</td>\n",
       "      <td>32.5</td>\n",
       "      <td>-200.0</td>\n",
       "      <td>-0.214286</td>\n",
       "    </tr>\n",
       "    <tr>\n",
       "      <th>3</th>\n",
       "      <td>2025-06</td>\n",
       "      <td>100.0</td>\n",
       "      <td>33.000000</td>\n",
       "      <td>300</td>\n",
       "      <td>33.0</td>\n",
       "      <td>-200.0</td>\n",
       "      <td>0.000000</td>\n",
       "    </tr>\n",
       "  </tbody>\n",
       "</table>\n",
       "</div>"
      ],
      "text/plain": [
       "  delivery_month  quantity_mwh_internal  price_eur_per_mwh_internal  \\\n",
       "0        2025-03                  100.0                   30.000000   \n",
       "1        2025-04                  300.0                   31.666667   \n",
       "2        2025-05                  350.0                   32.285714   \n",
       "3        2025-06                  100.0                   33.000000   \n",
       "\n",
       "   quantity_mwh_clearer  price_eur_per_mwh_clearer  quantity_diff  price_diff  \n",
       "0                   100                       30.0            0.0    0.000000  \n",
       "1                   500                       32.0         -200.0   -0.333333  \n",
       "2                   550                       32.5         -200.0   -0.214286  \n",
       "3                   300                       33.0         -200.0    0.000000  "
      ]
     },
     "execution_count": 40,
     "metadata": {},
     "output_type": "execute_result"
    }
   ],
   "source": [
    "\n",
    "reconciliation['quantity_diff'] = reconciliation['quantity_mwh_internal'] - reconciliation['quantity_mwh_clearer']\n",
    "reconciliation['price_diff'] = reconciliation['price_eur_per_mwh_internal'] - reconciliation['price_eur_per_mwh_clearer']\n",
    "\n",
    "reconciliation"
   ]
  },
  {
   "cell_type": "markdown",
   "id": "f2248f0a-42fe-4ae1-9ba7-e747be46f9cd",
   "metadata": {},
   "source": [
    "After netting internal trades and decomposing the quarterly contract (Q225), we compare internal and clearer data.\n",
    "\n",
    "The internal data includes both outright monthly trades and a quarterly contract (Q2 2025), which was evenly split across April, May, and June.\n",
    "We calculated the total quantity and weighted average price for each month based on internal data.\n",
    "Then, we compared it to the clearer’s official monthly data.\n",
    "\n",
    "     Final Reconciliation Output\n",
    "\n",
    "Month\tQuantity Match\t      Price Match\n",
    "March\t✅ Match\t         ✅ Match\n",
    "April\t❌ 200 MWh missing\t ❌ Slight price mismatch\n",
    "May\t    ❌ 200 MWh missing\t ❌ Slight price mismatch\n",
    "June\t❌ 200 MWh missing\t ✅ Match\n"
   ]
  }
 ],
 "metadata": {
  "kernelspec": {
   "display_name": "Python 3 (ipykernel)",
   "language": "python",
   "name": "python3"
  },
  "language_info": {
   "codemirror_mode": {
    "name": "ipython",
    "version": 3
   },
   "file_extension": ".py",
   "mimetype": "text/x-python",
   "name": "python",
   "nbconvert_exporter": "python",
   "pygments_lexer": "ipython3",
   "version": "3.13.4"
  }
 },
 "nbformat": 4,
 "nbformat_minor": 5
}
